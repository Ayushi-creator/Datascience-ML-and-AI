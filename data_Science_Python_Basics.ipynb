{
  "nbformat": 4,
  "nbformat_minor": 0,
  "metadata": {
    "colab": {
      "name": "data Science Python-Basics.ipynb",
      "provenance": [],
      "authorship_tag": "ABX9TyO8nhvex3G4EktFLAWqqRFL",
      "include_colab_link": true
    },
    "kernelspec": {
      "name": "python3",
      "display_name": "Python 3"
    },
    "language_info": {
      "name": "python"
    }
  },
  "cells": [
    {
      "cell_type": "markdown",
      "metadata": {
        "id": "view-in-github",
        "colab_type": "text"
      },
      "source": [
        "<a href=\"https://colab.research.google.com/github/Ayushi-creator/Datascience-ML-and-AI/blob/main/data_Science_Python_Basics.ipynb\" target=\"_parent\"><img src=\"https://colab.research.google.com/assets/colab-badge.svg\" alt=\"Open In Colab\"/></a>"
      ]
    },
    {
      "cell_type": "code",
      "execution_count": null,
      "metadata": {
        "colab": {
          "base_uri": "https://localhost:8080/"
        },
        "id": "4bhoJJuc1vWN",
        "outputId": "5506579b-5f6c-42ce-dacb-034471c1f27e"
      },
      "outputs": [
        {
          "output_type": "stream",
          "name": "stdout",
          "text": [
            "Hello Pepcoding\n"
          ]
        }
      ],
      "source": [
        "print(\"Hello Pepcoding\")\n"
      ]
    },
    {
      "cell_type": "code",
      "source": [
        "num=10"
      ],
      "metadata": {
        "id": "98JIRSlF2yQ_"
      },
      "execution_count": null,
      "outputs": []
    },
    {
      "cell_type": "code",
      "source": [
        "print(num)"
      ],
      "metadata": {
        "colab": {
          "base_uri": "https://localhost:8080/"
        },
        "id": "dbOUhFH_3W4w",
        "outputId": "31fc0fa0-c104-4c3a-de21-744f7658c063"
      },
      "execution_count": null,
      "outputs": [
        {
          "output_type": "stream",
          "name": "stdout",
          "text": [
            "10\n"
          ]
        }
      ]
    },
    {
      "cell_type": "code",
      "source": [
        "string=\"Pepcoding\"\n",
        "print(string)"
      ],
      "metadata": {
        "colab": {
          "base_uri": "https://localhost:8080/"
        },
        "id": "jfCC4ND-3kOE",
        "outputId": "b340393e-e7af-42fa-ed96-df4c8e6b571b"
      },
      "execution_count": null,
      "outputs": [
        {
          "output_type": "stream",
          "name": "stdout",
          "text": [
            "Pepcoding\n"
          ]
        }
      ]
    },
    {
      "cell_type": "code",
      "source": [
        "print(type(string))"
      ],
      "metadata": {
        "colab": {
          "base_uri": "https://localhost:8080/"
        },
        "id": "IBKKqvHC3ywo",
        "outputId": "d3ec5f8a-24ad-476c-e19d-925a14669dc6"
      },
      "execution_count": null,
      "outputs": [
        {
          "output_type": "stream",
          "name": "stdout",
          "text": [
            "<class 'str'>\n"
          ]
        }
      ]
    },
    {
      "cell_type": "code",
      "source": [
        "print(type(num))"
      ],
      "metadata": {
        "colab": {
          "base_uri": "https://localhost:8080/"
        },
        "id": "HNGx5Ph137Gf",
        "outputId": "0b6625b0-6276-4df8-cba8-2f4e8f10d375"
      },
      "execution_count": null,
      "outputs": [
        {
          "output_type": "stream",
          "name": "stdout",
          "text": [
            "<class 'int'>\n"
          ]
        }
      ]
    },
    {
      "cell_type": "code",
      "source": [
        "flt=2.2\n",
        "print(type(flt))"
      ],
      "metadata": {
        "colab": {
          "base_uri": "https://localhost:8080/"
        },
        "id": "j7lVUbxj4eRT",
        "outputId": "8a4780c4-e3e8-4de7-bb73-e18d0fbc5776"
      },
      "execution_count": null,
      "outputs": [
        {
          "output_type": "stream",
          "name": "stdout",
          "text": [
            "<class 'float'>\n"
          ]
        }
      ]
    },
    {
      "cell_type": "code",
      "source": [
        "print(type(flt),type(num),type(string))"
      ],
      "metadata": {
        "colab": {
          "base_uri": "https://localhost:8080/"
        },
        "id": "7rXCwmmB4n6g",
        "outputId": "5a73067a-455f-4c21-a94e-ca72c01619df"
      },
      "execution_count": null,
      "outputs": [
        {
          "output_type": "stream",
          "name": "stdout",
          "text": [
            "<class 'float'> <class 'int'> <class 'str'>\n"
          ]
        }
      ]
    },
    {
      "cell_type": "code",
      "source": [
        "a,b,c=10,20,30\n",
        "print(a,b,c)"
      ],
      "metadata": {
        "colab": {
          "base_uri": "https://localhost:8080/"
        },
        "id": "BpdrhXQZ40vv",
        "outputId": "affe8b69-e874-4e9e-c0b0-21f299afa116"
      },
      "execution_count": null,
      "outputs": [
        {
          "output_type": "stream",
          "name": "stdout",
          "text": [
            "10 20 30\n"
          ]
        }
      ]
    },
    {
      "cell_type": "code",
      "source": [
        "a=b=c=5\n"
      ],
      "metadata": {
        "id": "qlhnquqL5UmF"
      },
      "execution_count": null,
      "outputs": []
    },
    {
      "cell_type": "code",
      "source": [
        "import keyword\n",
        "print(keyword.kwlist)"
      ],
      "metadata": {
        "colab": {
          "base_uri": "https://localhost:8080/"
        },
        "id": "2EM8J_B_95AK",
        "outputId": "1bc9507e-aed6-41f1-87ef-d9eb87818379"
      },
      "execution_count": null,
      "outputs": [
        {
          "output_type": "stream",
          "name": "stdout",
          "text": [
            "['False', 'None', 'True', 'and', 'as', 'assert', 'async', 'await', 'break', 'class', 'continue', 'def', 'del', 'elif', 'else', 'except', 'finally', 'for', 'from', 'global', 'if', 'import', 'in', 'is', 'lambda', 'nonlocal', 'not', 'or', 'pass', 'raise', 'return', 'try', 'while', 'with', 'yield']\n"
          ]
        }
      ]
    },
    {
      "cell_type": "code",
      "source": [
        ""
      ],
      "metadata": {
        "id": "h3DePtYJ-CW6"
      },
      "execution_count": null,
      "outputs": []
    },
    {
      "cell_type": "markdown",
      "source": [
        "##Numbers\n"
      ],
      "metadata": {
        "id": "K5KdTleNAfWs"
      }
    },
    {
      "cell_type": "code",
      "source": [
        "num1=100\n",
        "num2=4.4\n",
        "num3=5+6j\n",
        "print(type(num),type(num2),type(num3))"
      ],
      "metadata": {
        "colab": {
          "base_uri": "https://localhost:8080/"
        },
        "id": "4nNIFq5vAiRW",
        "outputId": "e92bbccd-1189-43f3-95dc-0872fdc292c5"
      },
      "execution_count": null,
      "outputs": [
        {
          "output_type": "stream",
          "name": "stdout",
          "text": [
            "<class 'int'> <class 'float'> <class 'complex'>\n"
          ]
        }
      ]
    },
    {
      "cell_type": "code",
      "source": [
        "print(num1,num2,num3)"
      ],
      "metadata": {
        "colab": {
          "base_uri": "https://localhost:8080/"
        },
        "id": "-wJU276FBIEt",
        "outputId": "116590ca-b14c-4b25-a4f9-c4c3c13d48b5"
      },
      "execution_count": null,
      "outputs": [
        {
          "output_type": "stream",
          "name": "stdout",
          "text": [
            "100 4.4 (5+6j)\n"
          ]
        }
      ]
    },
    {
      "cell_type": "code",
      "source": [
        ""
      ],
      "metadata": {
        "id": "C80vJStdBSwg"
      },
      "execution_count": null,
      "outputs": []
    },
    {
      "cell_type": "markdown",
      "source": [
        "##String\n"
      ],
      "metadata": {
        "id": "NAaFaGd3Bblv"
      }
    },
    {
      "cell_type": "code",
      "source": [
        "string=\"Pepcoding\"\n",
        "print(type(string))"
      ],
      "metadata": {
        "colab": {
          "base_uri": "https://localhost:8080/"
        },
        "id": "2MH_Pm19Bd4V",
        "outputId": "940539f4-950d-4333-8012-d63757d8e06e"
      },
      "execution_count": null,
      "outputs": [
        {
          "output_type": "stream",
          "name": "stdout",
          "text": [
            "<class 'str'>\n"
          ]
        }
      ]
    },
    {
      "cell_type": "code",
      "source": [
        "print(string[0])"
      ],
      "metadata": {
        "colab": {
          "base_uri": "https://localhost:8080/"
        },
        "id": "i7wwxTiWBtZd",
        "outputId": "d8840ef1-4c66-4704-e396-ce1b1be0da62"
      },
      "execution_count": null,
      "outputs": [
        {
          "output_type": "stream",
          "name": "stdout",
          "text": [
            "P\n"
          ]
        }
      ]
    },
    {
      "cell_type": "code",
      "source": [
        ""
      ],
      "metadata": {
        "id": "z5mWGJQcB0I5"
      },
      "execution_count": null,
      "outputs": []
    },
    {
      "cell_type": "markdown",
      "source": [
        "string in python are immutabel"
      ],
      "metadata": {
        "id": "-S2PgYR-PgvD"
      }
    },
    {
      "cell_type": "code",
      "source": [
        "string=\"Nados\""
      ],
      "metadata": {
        "id": "0aGmQYXYPpiT"
      },
      "execution_count": null,
      "outputs": []
    },
    {
      "cell_type": "code",
      "source": [
        ""
      ],
      "metadata": {
        "id": "pdjtn832TsXE"
      },
      "execution_count": null,
      "outputs": []
    },
    {
      "cell_type": "markdown",
      "source": [
        "##slicing\n"
      ],
      "metadata": {
        "id": "lvSKsvebTvoz"
      }
    },
    {
      "cell_type": "code",
      "source": [
        "string[0:3]"
      ],
      "metadata": {
        "colab": {
          "base_uri": "https://localhost:8080/",
          "height": 166
        },
        "id": "zndacv0LTxCG",
        "outputId": "b38e580d-da14-4935-bab2-f6b073ff1918"
      },
      "execution_count": null,
      "outputs": [
        {
          "output_type": "error",
          "ename": "NameError",
          "evalue": "ignored",
          "traceback": [
            "\u001b[0;31m---------------------------------------------------------------------------\u001b[0m",
            "\u001b[0;31mNameError\u001b[0m                                 Traceback (most recent call last)",
            "\u001b[0;32m<ipython-input-1-78b5c96dbe3d>\u001b[0m in \u001b[0;36m<module>\u001b[0;34m\u001b[0m\n\u001b[0;32m----> 1\u001b[0;31m \u001b[0mstring\u001b[0m\u001b[0;34m[\u001b[0m\u001b[0;36m0\u001b[0m\u001b[0;34m:\u001b[0m\u001b[0;36m3\u001b[0m\u001b[0;34m]\u001b[0m\u001b[0;34m\u001b[0m\u001b[0;34m\u001b[0m\u001b[0m\n\u001b[0m",
            "\u001b[0;31mNameError\u001b[0m: name 'string' is not defined"
          ]
        }
      ]
    },
    {
      "cell_type": "code",
      "source": [
        "string[0:]"
      ],
      "metadata": {
        "id": "zt7Ia3e9T6Oc"
      },
      "execution_count": null,
      "outputs": []
    },
    {
      "cell_type": "code",
      "source": [
        "string[:3]"
      ],
      "metadata": {
        "id": "m4tDAObsUTCa"
      },
      "execution_count": null,
      "outputs": []
    },
    {
      "cell_type": "code",
      "source": [
        "string[:]"
      ],
      "metadata": {
        "id": "Dc1C_tXcUezx"
      },
      "execution_count": null,
      "outputs": []
    },
    {
      "cell_type": "code",
      "source": [
        "string[0:4:2]"
      ],
      "metadata": {
        "id": "qO1_m9kvUnK1"
      },
      "execution_count": null,
      "outputs": []
    },
    {
      "cell_type": "code",
      "source": [
        "string[::2]"
      ],
      "metadata": {
        "id": "geTjOPUsU8x7"
      },
      "execution_count": null,
      "outputs": []
    },
    {
      "cell_type": "code",
      "source": [
        "string[7:1:1]"
      ],
      "metadata": {
        "id": "sjDcFeG1aO9d"
      },
      "execution_count": null,
      "outputs": []
    },
    {
      "cell_type": "code",
      "source": [
        "string[-1]"
      ],
      "metadata": {
        "id": "gXregplfcG7p"
      },
      "execution_count": null,
      "outputs": []
    },
    {
      "cell_type": "code",
      "source": [
        "string=\"Pepcoding\""
      ],
      "metadata": {
        "id": "sef-eBFCc8Vi"
      },
      "execution_count": null,
      "outputs": []
    },
    {
      "cell_type": "markdown",
      "source": [
        "start default vsalue 0 end default  alue length "
      ],
      "metadata": {
        "id": "53vH5RIY0TPT"
      }
    },
    {
      "cell_type": "markdown",
      "source": [
        "in negative counting starts from end with (-1) like g(-1) n(-2)....\n",
        "\n",
        "---\n",
        "\n"
      ],
      "metadata": {
        "id": "qaQBadp-2QQ5"
      }
    },
    {
      "cell_type": "markdown",
      "source": [
        "start<end\n",
        "step could be negative"
      ],
      "metadata": {
        "id": "N6nxY8w53BY0"
      }
    },
    {
      "cell_type": "code",
      "source": [
        "string[-9:-6]"
      ],
      "metadata": {
        "id": "U29rlgo22c5v"
      },
      "execution_count": null,
      "outputs": []
    },
    {
      "cell_type": "code",
      "source": [
        "string[8:5:-1]"
      ],
      "metadata": {
        "id": "KhrQ-0wP2koG"
      },
      "execution_count": null,
      "outputs": []
    },
    {
      "cell_type": "code",
      "source": [
        "string[-3:-9:-1]"
      ],
      "metadata": {
        "id": "LlcfWpYa4Le3"
      },
      "execution_count": null,
      "outputs": []
    },
    {
      "cell_type": "markdown",
      "source": [
        "step>0 left to right start<end start default value0 end default value len"
      ],
      "metadata": {
        "id": "kDrn3A0242Tb"
      }
    },
    {
      "cell_type": "markdown",
      "source": [
        "step<0 right to left start>end  start default value len and end default value is 0"
      ],
      "metadata": {
        "id": "_2tejtCJ5GId"
      }
    },
    {
      "cell_type": "code",
      "source": [
        "inp=input()"
      ],
      "metadata": {
        "id": "nYpkAIEx6EoE"
      },
      "execution_count": null,
      "outputs": []
    },
    {
      "cell_type": "code",
      "source": [
        "print(type(inp))"
      ],
      "metadata": {
        "id": "s_6Bim5k6zLW"
      },
      "execution_count": null,
      "outputs": []
    },
    {
      "cell_type": "code",
      "source": [
        "inp1=int(input())"
      ],
      "metadata": {
        "id": "JkqA69uf6Lbv"
      },
      "execution_count": null,
      "outputs": []
    },
    {
      "cell_type": "markdown",
      "source": [
        "input function read in string format\n"
      ],
      "metadata": {
        "id": "a45tAJZZ7CZ8"
      }
    },
    {
      "cell_type": "code",
      "source": [
        "print(type(inp))"
      ],
      "metadata": {
        "id": "Nc8E5VJe6UmV"
      },
      "execution_count": null,
      "outputs": []
    },
    {
      "cell_type": "code",
      "source": [
        "print(type(inp1))"
      ],
      "metadata": {
        "id": "Sz3I-jsX6lAR"
      },
      "execution_count": null,
      "outputs": []
    },
    {
      "cell_type": "code",
      "source": [
        "len(string)"
      ],
      "metadata": {
        "id": "Ap0-2UUD6u5z"
      },
      "execution_count": null,
      "outputs": []
    },
    {
      "cell_type": "code",
      "source": [
        "string[2:-2:-1]"
      ],
      "metadata": {
        "id": "qlmj3zWu8luS"
      },
      "execution_count": null,
      "outputs": []
    },
    {
      "cell_type": "code",
      "source": [
        "string[:4:-1]"
      ],
      "metadata": {
        "id": "635wFyq-8ugu"
      },
      "execution_count": null,
      "outputs": []
    },
    {
      "cell_type": "code",
      "source": [
        "string[-1:]"
      ],
      "metadata": {
        "id": "B8HTwWm-9kIb"
      },
      "execution_count": null,
      "outputs": []
    },
    {
      "cell_type": "markdown",
      "source": [
        "step size nahi diya toh movement left to right hogiend diya nahi toh default value g(-1) start bhi (-1)toh oputput g"
      ],
      "metadata": {
        "id": "eMd2TxY0-iVy"
      }
    },
    {
      "cell_type": "code",
      "source": [
        "for ch in string:\n",
        "  print(ch)"
      ],
      "metadata": {
        "id": "OeUJICgS_D_y"
      },
      "execution_count": null,
      "outputs": []
    },
    {
      "cell_type": "code",
      "source": [
        "print(\"Pep\")\n",
        "print(\"coding\")"
      ],
      "metadata": {
        "id": "ekM8QCQe_rQF"
      },
      "execution_count": null,
      "outputs": []
    },
    {
      "cell_type": "markdown",
      "source": [
        "now want pep coding in singel line"
      ],
      "metadata": {
        "id": "U3gfoLkEAFZw"
      }
    },
    {
      "cell_type": "code",
      "source": [
        "print(\"Pep\",end=\"\")\n",
        "print(\"coding\")"
      ],
      "metadata": {
        "id": "OIr3fqUXAJYy"
      },
      "execution_count": null,
      "outputs": []
    },
    {
      "cell_type": "code",
      "source": [
        "if \"coding\" in string:\n",
        "  print(\"Hello Pepcoding\")"
      ],
      "metadata": {
        "id": "bFP4a0hrArFf"
      },
      "execution_count": null,
      "outputs": []
    },
    {
      "cell_type": "code",
      "source": [
        "string.upper()"
      ],
      "metadata": {
        "id": "dPunyW7_BGOr",
        "colab": {
          "base_uri": "https://localhost:8080/",
          "height": 166
        },
        "outputId": "7e3683b6-b8f0-49fa-eb71-dd87d3057f65"
      },
      "execution_count": null,
      "outputs": [
        {
          "output_type": "error",
          "ename": "NameError",
          "evalue": "ignored",
          "traceback": [
            "\u001b[0;31m---------------------------------------------------------------------------\u001b[0m",
            "\u001b[0;31mNameError\u001b[0m                                 Traceback (most recent call last)",
            "\u001b[0;32m<ipython-input-1-3db3a88b927c>\u001b[0m in \u001b[0;36m<module>\u001b[0;34m\u001b[0m\n\u001b[0;32m----> 1\u001b[0;31m \u001b[0mstring\u001b[0m\u001b[0;34m.\u001b[0m\u001b[0mupper\u001b[0m\u001b[0;34m(\u001b[0m\u001b[0;34m)\u001b[0m\u001b[0;34m\u001b[0m\u001b[0;34m\u001b[0m\u001b[0m\n\u001b[0m",
            "\u001b[0;31mNameError\u001b[0m: name 'string' is not defined"
          ]
        }
      ]
    },
    {
      "cell_type": "code",
      "source": [
        "string.lower()"
      ],
      "metadata": {
        "id": "kbRjctzkBbY6"
      },
      "execution_count": null,
      "outputs": []
    },
    {
      "cell_type": "markdown",
      "source": [
        "##IF ELSE"
      ],
      "metadata": {
        "id": "stLlpF0sBm4c"
      }
    },
    {
      "cell_type": "code",
      "source": [
        "if 1>2:\n",
        "  print(\"A\")\n",
        "else:\n",
        "    print(\"B\")"
      ],
      "metadata": {
        "colab": {
          "base_uri": "https://localhost:8080/"
        },
        "id": "ZsjNMjtABgir",
        "outputId": "76432839-28d7-4b39-914d-388b217ffc0e"
      },
      "execution_count": null,
      "outputs": [
        {
          "output_type": "stream",
          "name": "stdout",
          "text": [
            "B\n"
          ]
        }
      ]
    },
    {
      "cell_type": "code",
      "source": [
        "marks=55\n",
        "if marks>90:\n",
        "  print(\"A grade\")\n",
        "elif marks>80:\n",
        "    print(\"B  grade\")\n",
        "else:\n",
        "  print(\"c grade\")    \n"
      ],
      "metadata": {
        "colab": {
          "base_uri": "https://localhost:8080/"
        },
        "id": "YtbbXt6ACS9R",
        "outputId": "461e19c1-b6f0-45f8-b86d-ccb537e9cb35"
      },
      "execution_count": null,
      "outputs": [
        {
          "output_type": "stream",
          "name": "stdout",
          "text": [
            "c grade\n"
          ]
        }
      ]
    },
    {
      "cell_type": "code",
      "source": [
        "for i in range(5):\n",
        "  print(i)"
      ],
      "metadata": {
        "colab": {
          "base_uri": "https://localhost:8080/"
        },
        "id": "QLdmt9kJDBGd",
        "outputId": "49ccfb40-6f29-48a4-83df-dcc5d27aa1d3"
      },
      "execution_count": null,
      "outputs": [
        {
          "output_type": "stream",
          "name": "stdout",
          "text": [
            "0\n",
            "1\n",
            "2\n",
            "3\n",
            "4\n"
          ]
        }
      ]
    },
    {
      "cell_type": "code",
      "source": [
        "for i in range(5):\n",
        "  print(i*i)"
      ],
      "metadata": {
        "colab": {
          "base_uri": "https://localhost:8080/"
        },
        "id": "kVdr_zCZDiyD",
        "outputId": "65f4c663-098e-445f-f2b2-a6f25a6ee0bc"
      },
      "execution_count": null,
      "outputs": [
        {
          "output_type": "stream",
          "name": "stdout",
          "text": [
            "0\n",
            "1\n",
            "4\n",
            "9\n",
            "16\n"
          ]
        }
      ]
    },
    {
      "cell_type": "code",
      "source": [
        "i=0\n",
        "while i<5:\n",
        "  i+=1"
      ],
      "metadata": {
        "id": "YayTdtX3DqUH"
      },
      "execution_count": null,
      "outputs": []
    },
    {
      "cell_type": "code",
      "source": [
        "\n",
        "for i in range(5):\n",
        "  if i==2:\n",
        "   break\n",
        "  print(i*i)"
      ],
      "metadata": {
        "colab": {
          "base_uri": "https://localhost:8080/"
        },
        "id": "6FnUDubdE4Tw",
        "outputId": "f45db5ea-47d3-46df-d726-6c5b4c9ad8fb"
      },
      "execution_count": null,
      "outputs": [
        {
          "output_type": "stream",
          "name": "stdout",
          "text": [
            "0\n",
            "1\n"
          ]
        }
      ]
    },
    {
      "cell_type": "code",
      "source": [
        "for i in range(5):\n",
        "  print(str(i)+ \"Hello\")\n",
        "  if i==2:\n",
        "    break\n"
      ],
      "metadata": {
        "colab": {
          "base_uri": "https://localhost:8080/"
        },
        "id": "AbyEeUZJFvWT",
        "outputId": "9294d367-777f-47bd-f003-db778bd9c6b3"
      },
      "execution_count": null,
      "outputs": [
        {
          "output_type": "stream",
          "name": "stdout",
          "text": [
            "0Hello\n",
            "1Hello\n",
            "2Hello\n"
          ]
        }
      ]
    },
    {
      "cell_type": "code",
      "source": [
        "for i in range(5):\n",
        "  if i==2:\n",
        "    continue\n",
        "  print(str(i)+ \"Hello\")\n"
      ],
      "metadata": {
        "colab": {
          "base_uri": "https://localhost:8080/"
        },
        "id": "idpl30W4GMK3",
        "outputId": "409bbad0-d579-4153-b2ce-72d65a8aa20c"
      },
      "execution_count": null,
      "outputs": [
        {
          "output_type": "stream",
          "name": "stdout",
          "text": [
            "0Hello\n",
            "1Hello\n",
            "3Hello\n",
            "4Hello\n"
          ]
        }
      ]
    },
    {
      "cell_type": "markdown",
      "source": [
        "##List[ ]\n",
        "list could be heterogenous\n",
        "\n",
        "mutabel\n",
        "\n",
        "Scriptabel"
      ],
      "metadata": {
        "id": "wtqk4Zbw27NA"
      }
    },
    {
      "cell_type": "code",
      "source": [
        "lst=[1,2,3]\n",
        "print(type(lst))"
      ],
      "metadata": {
        "id": "6yNZx7LkWJ03",
        "colab": {
          "base_uri": "https://localhost:8080/"
        },
        "outputId": "16ef5622-e599-4701-e664-62aca791a47b"
      },
      "execution_count": null,
      "outputs": [
        {
          "output_type": "stream",
          "name": "stdout",
          "text": [
            "<class 'list'>\n"
          ]
        }
      ]
    },
    {
      "cell_type": "code",
      "source": [
        "lst.append(\"8\")\n",
        "print(lst)\n"
      ],
      "metadata": {
        "colab": {
          "base_uri": "https://localhost:8080/"
        },
        "id": "ac9Csdga3Fgr",
        "outputId": "37cd8f14-de6c-49f0-ec81-b5095fa86f01"
      },
      "execution_count": null,
      "outputs": [
        {
          "output_type": "stream",
          "name": "stdout",
          "text": [
            "[1, 2, 3, '8']\n"
          ]
        }
      ]
    },
    {
      "cell_type": "code",
      "source": [
        "lst"
      ],
      "metadata": {
        "colab": {
          "base_uri": "https://localhost:8080/"
        },
        "id": "zZMuD0EJ3P0k",
        "outputId": "36a97709-2508-4aba-b428-8e580e6bd7cd"
      },
      "execution_count": null,
      "outputs": [
        {
          "output_type": "execute_result",
          "data": {
            "text/plain": [
              "[1, 2, 3, '8']"
            ]
          },
          "metadata": {},
          "execution_count": 4
        }
      ]
    },
    {
      "cell_type": "code",
      "source": [
        "lst[0]=55"
      ],
      "metadata": {
        "id": "0vTDx8ac3U2v"
      },
      "execution_count": null,
      "outputs": []
    },
    {
      "cell_type": "code",
      "source": [
        "lst"
      ],
      "metadata": {
        "colab": {
          "base_uri": "https://localhost:8080/"
        },
        "id": "-715So1I3ryE",
        "outputId": "e89808f5-0e99-4808-ff51-24fe34f70b42"
      },
      "execution_count": null,
      "outputs": [
        {
          "output_type": "execute_result",
          "data": {
            "text/plain": [
              "[55, 2, 3, '8']"
            ]
          },
          "metadata": {},
          "execution_count": 6
        }
      ]
    },
    {
      "cell_type": "code",
      "source": [
        "lst=[1,2,3,\"Pepcoding\"]"
      ],
      "metadata": {
        "id": "gNhMCc-a3tSZ"
      },
      "execution_count": null,
      "outputs": []
    },
    {
      "cell_type": "code",
      "source": [
        "lst"
      ],
      "metadata": {
        "colab": {
          "base_uri": "https://localhost:8080/"
        },
        "id": "8UQWCr5h33pk",
        "outputId": "3fd26738-d933-4532-9f4b-117134b0d52b"
      },
      "execution_count": null,
      "outputs": [
        {
          "output_type": "execute_result",
          "data": {
            "text/plain": [
              "[1, 2, 3, 'Pepcoding']"
            ]
          },
          "metadata": {},
          "execution_count": 8
        }
      ]
    },
    {
      "cell_type": "code",
      "source": [
        "lst2=[1,2,3]\n",
        "lst.append(lst2)\n",
        "lst"
      ],
      "metadata": {
        "colab": {
          "base_uri": "https://localhost:8080/"
        },
        "id": "XZ8nkmhi35DL",
        "outputId": "b32d8f3d-6887-471f-d166-3bebe4f6d461"
      },
      "execution_count": null,
      "outputs": [
        {
          "output_type": "execute_result",
          "data": {
            "text/plain": [
              "[1, 2, 3, 'Pepcoding', [1, 2, 3]]"
            ]
          },
          "metadata": {},
          "execution_count": 9
        }
      ]
    },
    {
      "cell_type": "code",
      "source": [
        "lst[-1]"
      ],
      "metadata": {
        "colab": {
          "base_uri": "https://localhost:8080/"
        },
        "id": "aUiVrRno4zjF",
        "outputId": "ab0158fb-acf4-481d-ae53-1e4a51c93ef8"
      },
      "execution_count": null,
      "outputs": [
        {
          "output_type": "execute_result",
          "data": {
            "text/plain": [
              "[1, 2, 3]"
            ]
          },
          "metadata": {},
          "execution_count": 10
        }
      ]
    },
    {
      "cell_type": "code",
      "source": [
        "lst[0:3]"
      ],
      "metadata": {
        "colab": {
          "base_uri": "https://localhost:8080/"
        },
        "id": "DSnYIdA348Ls",
        "outputId": "6ddfaab6-4616-43ae-8c41-3a865daf6aa5"
      },
      "execution_count": null,
      "outputs": [
        {
          "output_type": "execute_result",
          "data": {
            "text/plain": [
              "[1, 2, 3]"
            ]
          },
          "metadata": {},
          "execution_count": 11
        }
      ]
    },
    {
      "cell_type": "code",
      "source": [
        "lst.insert(2,\"ABC\")\n",
        "lst"
      ],
      "metadata": {
        "colab": {
          "base_uri": "https://localhost:8080/"
        },
        "id": "2wkLJ9hg5Egx",
        "outputId": "f493b7a5-d01c-4628-8b9b-a14877994f38"
      },
      "execution_count": null,
      "outputs": [
        {
          "output_type": "execute_result",
          "data": {
            "text/plain": [
              "[1, 2, 'ABC', 3, 'Pepcoding', [1, 2, 3]]"
            ]
          },
          "metadata": {},
          "execution_count": 12
        }
      ]
    },
    {
      "cell_type": "code",
      "source": [
        "lst.remove(2)"
      ],
      "metadata": {
        "id": "BntT4-qV5Ykb"
      },
      "execution_count": null,
      "outputs": []
    },
    {
      "cell_type": "code",
      "source": [
        "lst"
      ],
      "metadata": {
        "colab": {
          "base_uri": "https://localhost:8080/"
        },
        "id": "WRAELRkg5gXo",
        "outputId": "1dfd8778-2250-4b1c-cbf2-7e86ce18cea1"
      },
      "execution_count": null,
      "outputs": [
        {
          "output_type": "execute_result",
          "data": {
            "text/plain": [
              "[1, 'ABC', 3, 'Pepcoding', [1, 2, 3]]"
            ]
          },
          "metadata": {},
          "execution_count": 14
        }
      ]
    },
    {
      "cell_type": "code",
      "source": [
        "print(lst.pop())"
      ],
      "metadata": {
        "colab": {
          "base_uri": "https://localhost:8080/"
        },
        "id": "p9mYt-zu5h8u",
        "outputId": "57b66020-ac67-4d4d-c7d4-502274c359bd"
      },
      "execution_count": null,
      "outputs": [
        {
          "output_type": "stream",
          "name": "stdout",
          "text": [
            "[1, 2, 3]\n"
          ]
        }
      ]
    },
    {
      "cell_type": "code",
      "source": [
        "lst"
      ],
      "metadata": {
        "colab": {
          "base_uri": "https://localhost:8080/"
        },
        "id": "VojvsdF65tSo",
        "outputId": "310e3280-0e4f-4e0a-946a-f6b15d7c0f5d"
      },
      "execution_count": null,
      "outputs": [
        {
          "output_type": "execute_result",
          "data": {
            "text/plain": [
              "[1, 'ABC', 3, 'Pepcoding']"
            ]
          },
          "metadata": {},
          "execution_count": 16
        }
      ]
    },
    {
      "cell_type": "code",
      "source": [
        "for i in lst:\n",
        "  print(i)"
      ],
      "metadata": {
        "colab": {
          "base_uri": "https://localhost:8080/"
        },
        "id": "oaQ4Rsi97kUn",
        "outputId": "61b1dad4-1567-4e75-8346-3598dcb95bee"
      },
      "execution_count": null,
      "outputs": [
        {
          "output_type": "stream",
          "name": "stdout",
          "text": [
            "1\n",
            "ABC\n",
            "3\n",
            "Pepcoding\n"
          ]
        }
      ]
    },
    {
      "cell_type": "code",
      "source": [
        "lst.insert(1,\"DEF\")\n",
        "lst"
      ],
      "metadata": {
        "colab": {
          "base_uri": "https://localhost:8080/"
        },
        "id": "DaaDp-vg7wdZ",
        "outputId": "329db765-0321-4aac-b806-d2b0d08d7c0d"
      },
      "execution_count": null,
      "outputs": [
        {
          "output_type": "execute_result",
          "data": {
            "text/plain": [
              "[1, 'DEF', 'DEF', 'ABC', 3, 'Pepcoding']"
            ]
          },
          "metadata": {},
          "execution_count": 22
        }
      ]
    },
    {
      "cell_type": "code",
      "source": [
        ""
      ],
      "metadata": {
        "id": "X9d06oyQ8LKs"
      },
      "execution_count": null,
      "outputs": []
    },
    {
      "cell_type": "markdown",
      "source": [
        "\n",
        "\n",
        "\n",
        "\n",
        "\n",
        "\n",
        "\n",
        "\n",
        "\n",
        "\n",
        "\n",
        "\n",
        "\n",
        "\n",
        "\n",
        "\n",
        "\n",
        "\n",
        "\n",
        "\n",
        "\n",
        "\n",
        "\n",
        "\n",
        "\n",
        "\n",
        "\n",
        "\n",
        "##Tupel( )\n",
        "\n",
        "heterogenous possibel\n",
        "\n",
        "scriptabel\n",
        "\n",
        "*   odered\n",
        "\n",
        "\n",
        "\n",
        "immutabel\n"
      ],
      "metadata": {
        "id": "gNxdm_AcAL1X"
      }
    },
    {
      "cell_type": "code",
      "source": [
        "tup=(1,2,3,\"Hello\")"
      ],
      "metadata": {
        "id": "1T97qjr0AOyb"
      },
      "execution_count": null,
      "outputs": []
    },
    {
      "cell_type": "code",
      "source": [
        "tup"
      ],
      "metadata": {
        "colab": {
          "base_uri": "https://localhost:8080/"
        },
        "id": "cnoTBDnPAadf",
        "outputId": "5049d794-6ceb-400a-b82a-4750fc02ab37"
      },
      "execution_count": null,
      "outputs": [
        {
          "output_type": "execute_result",
          "data": {
            "text/plain": [
              "(1, 2, 3, 'Hello')"
            ]
          },
          "metadata": {},
          "execution_count": 24
        }
      ]
    },
    {
      "cell_type": "code",
      "source": [
        "print(type(tup))"
      ],
      "metadata": {
        "colab": {
          "base_uri": "https://localhost:8080/"
        },
        "id": "vVIYTwNBAblZ",
        "outputId": "96b58e29-ce9a-402e-86c2-02b546c8dbfd"
      },
      "execution_count": null,
      "outputs": [
        {
          "output_type": "stream",
          "name": "stdout",
          "text": [
            "<class 'tuple'>\n"
          ]
        }
      ]
    },
    {
      "cell_type": "code",
      "source": [
        "tup=(1)"
      ],
      "metadata": {
        "id": "_-Roiq3hApLl"
      },
      "execution_count": null,
      "outputs": []
    },
    {
      "cell_type": "code",
      "source": [
        "print(type(tup))"
      ],
      "metadata": {
        "colab": {
          "base_uri": "https://localhost:8080/"
        },
        "id": "XLaynxyiDgWy",
        "outputId": "c0ca4c14-99de-4e21-c095-ed49f0439ab8"
      },
      "execution_count": null,
      "outputs": [
        {
          "output_type": "stream",
          "name": "stdout",
          "text": [
            "<class 'int'>\n"
          ]
        }
      ]
    },
    {
      "cell_type": "code",
      "source": [
        "tup=(1,)"
      ],
      "metadata": {
        "id": "SKvwTcW6DsDO"
      },
      "execution_count": null,
      "outputs": []
    },
    {
      "cell_type": "code",
      "source": [
        "print(type(tup))"
      ],
      "metadata": {
        "colab": {
          "base_uri": "https://localhost:8080/"
        },
        "id": "wqdAVL73D2pC",
        "outputId": "860d43e2-8fc1-4fdd-f464-99d64fe098ca"
      },
      "execution_count": null,
      "outputs": [
        {
          "output_type": "stream",
          "name": "stdout",
          "text": [
            "<class 'tuple'>\n"
          ]
        }
      ]
    },
    {
      "cell_type": "code",
      "source": [
        "print(tup[0])"
      ],
      "metadata": {
        "colab": {
          "base_uri": "https://localhost:8080/"
        },
        "id": "WeoDdJn2D4cu",
        "outputId": "a0b1fd71-86e7-4636-bf56-87ed1f4ecdb4"
      },
      "execution_count": null,
      "outputs": [
        {
          "output_type": "stream",
          "name": "stdout",
          "text": [
            "1\n"
          ]
        }
      ]
    },
    {
      "cell_type": "code",
      "source": [
        "tup[0]=55"
      ],
      "metadata": {
        "colab": {
          "base_uri": "https://localhost:8080/",
          "height": 166
        },
        "id": "c3dN9nqSEL6b",
        "outputId": "76c7800c-a862-4b3e-bf0a-28b946e80a65"
      },
      "execution_count": null,
      "outputs": [
        {
          "output_type": "error",
          "ename": "TypeError",
          "evalue": "ignored",
          "traceback": [
            "\u001b[0;31m---------------------------------------------------------------------------\u001b[0m",
            "\u001b[0;31mTypeError\u001b[0m                                 Traceback (most recent call last)",
            "\u001b[0;32m<ipython-input-34-3895862a4ad3>\u001b[0m in \u001b[0;36m<module>\u001b[0;34m\u001b[0m\n\u001b[0;32m----> 1\u001b[0;31m \u001b[0mtup\u001b[0m\u001b[0;34m[\u001b[0m\u001b[0;36m0\u001b[0m\u001b[0;34m]\u001b[0m\u001b[0;34m=\u001b[0m\u001b[0;36m55\u001b[0m\u001b[0;34m\u001b[0m\u001b[0;34m\u001b[0m\u001b[0m\n\u001b[0m",
            "\u001b[0;31mTypeError\u001b[0m: 'tuple' object does not support item assignment"
          ]
        }
      ]
    },
    {
      "cell_type": "code",
      "source": [
        "for i in tup:\n",
        "  print(i)\n"
      ],
      "metadata": {
        "id": "eGtT6vOWEVlL",
        "colab": {
          "base_uri": "https://localhost:8080/"
        },
        "outputId": "a65440c5-3e68-48dd-88d3-ab593b5d9bc0"
      },
      "execution_count": null,
      "outputs": [
        {
          "output_type": "stream",
          "name": "stdout",
          "text": [
            "1\n"
          ]
        }
      ]
    },
    {
      "cell_type": "code",
      "source": [
        "tup.append(55)"
      ],
      "metadata": {
        "colab": {
          "base_uri": "https://localhost:8080/",
          "height": 166
        },
        "id": "IJ67aCqGGBJd",
        "outputId": "28e66330-5929-413f-f5c2-d6fda8a51dea"
      },
      "execution_count": null,
      "outputs": [
        {
          "output_type": "error",
          "ename": "AttributeError",
          "evalue": "ignored",
          "traceback": [
            "\u001b[0;31m---------------------------------------------------------------------------\u001b[0m",
            "\u001b[0;31mAttributeError\u001b[0m                            Traceback (most recent call last)",
            "\u001b[0;32m<ipython-input-38-39faf80afa67>\u001b[0m in \u001b[0;36m<module>\u001b[0;34m\u001b[0m\n\u001b[0;32m----> 1\u001b[0;31m \u001b[0mtup\u001b[0m\u001b[0;34m.\u001b[0m\u001b[0mappend\u001b[0m\u001b[0;34m(\u001b[0m\u001b[0;36m55\u001b[0m\u001b[0;34m)\u001b[0m\u001b[0;34m\u001b[0m\u001b[0;34m\u001b[0m\u001b[0m\n\u001b[0m",
            "\u001b[0;31mAttributeError\u001b[0m: 'tuple' object has no attribute 'append'"
          ]
        }
      ]
    },
    {
      "cell_type": "markdown",
      "source": [
        "##Sets { }\n",
        "\n",
        "*   not Scriptabel\n",
        "*   could be heterogeneous\n",
        "\n",
        "*   not odered\n",
        "\n",
        "\n",
        "*   no repetition allowed\n",
        "\n",
        "\n",
        "\n",
        "\n",
        "\n"
      ],
      "metadata": {
        "id": "YEkH059lJo6h"
      }
    },
    {
      "cell_type": "code",
      "source": [
        ""
      ],
      "metadata": {
        "id": "wtkil-iG69Ld"
      },
      "execution_count": null,
      "outputs": []
    },
    {
      "cell_type": "code",
      "source": [
        "st={\"Appel\",\"Mango\",\"Pineappel\",\"Appel\"}\n",
        "print(type(st))"
      ],
      "metadata": {
        "colab": {
          "base_uri": "https://localhost:8080/"
        },
        "id": "pan9mWh5GYOs",
        "outputId": "f3d8ce18-fe15-4f9b-de39-6948d8199ec0"
      },
      "execution_count": null,
      "outputs": [
        {
          "output_type": "stream",
          "name": "stdout",
          "text": [
            "<class 'set'>\n"
          ]
        }
      ]
    },
    {
      "cell_type": "code",
      "source": [
        "st"
      ],
      "metadata": {
        "colab": {
          "base_uri": "https://localhost:8080/"
        },
        "id": "i2XbtOW1PAzf",
        "outputId": "04a75a9b-6acc-41e3-8b9f-4b6aa093e85e"
      },
      "execution_count": null,
      "outputs": [
        {
          "output_type": "execute_result",
          "data": {
            "text/plain": [
              "{'Appel', 'Mango', 'Pineappel'}"
            ]
          },
          "metadata": {},
          "execution_count": 58
        }
      ]
    },
    {
      "cell_type": "code",
      "source": [
        "st[0]"
      ],
      "metadata": {
        "colab": {
          "base_uri": "https://localhost:8080/",
          "height": 166
        },
        "id": "hOvXXAtNKMtm",
        "outputId": "6d608831-fd20-4902-d2e1-c550f8f1ec41"
      },
      "execution_count": null,
      "outputs": [
        {
          "output_type": "error",
          "ename": "TypeError",
          "evalue": "ignored",
          "traceback": [
            "\u001b[0;31m---------------------------------------------------------------------------\u001b[0m",
            "\u001b[0;31mTypeError\u001b[0m                                 Traceback (most recent call last)",
            "\u001b[0;32m<ipython-input-40-028cc1d9138b>\u001b[0m in \u001b[0;36m<module>\u001b[0;34m\u001b[0m\n\u001b[0;32m----> 1\u001b[0;31m \u001b[0mst\u001b[0m\u001b[0;34m[\u001b[0m\u001b[0;36m0\u001b[0m\u001b[0;34m]\u001b[0m\u001b[0;34m\u001b[0m\u001b[0;34m\u001b[0m\u001b[0m\n\u001b[0m",
            "\u001b[0;31mTypeError\u001b[0m: 'set' object is not subscriptable"
          ]
        }
      ]
    },
    {
      "cell_type": "markdown",
      "source": [
        ""
      ],
      "metadata": {
        "id": "zFAaVkgSKZUL"
      }
    },
    {
      "cell_type": "code",
      "source": [
        "st={\"Appel\",\"Mango\",\"Pineappel\",5,6,7}"
      ],
      "metadata": {
        "id": "CuTLOEDFKRNN"
      },
      "execution_count": null,
      "outputs": []
    },
    {
      "cell_type": "code",
      "source": [
        "st"
      ],
      "metadata": {
        "colab": {
          "base_uri": "https://localhost:8080/"
        },
        "id": "4gf0dBmUKyRf",
        "outputId": "1fe26d58-3fd1-434d-b5be-35d340f07cb8"
      },
      "execution_count": null,
      "outputs": [
        {
          "output_type": "execute_result",
          "data": {
            "text/plain": [
              "{5, 6, 7, 'Appel', 'Mango', 'Pineappel'}"
            ]
          },
          "metadata": {},
          "execution_count": 42
        }
      ]
    },
    {
      "cell_type": "code",
      "source": [
        "st.add(\"orange\")"
      ],
      "metadata": {
        "id": "lHIGbKVHK6n-"
      },
      "execution_count": null,
      "outputs": []
    },
    {
      "cell_type": "code",
      "source": [
        "st"
      ],
      "metadata": {
        "colab": {
          "base_uri": "https://localhost:8080/"
        },
        "id": "XZE6IiyNMTi3",
        "outputId": "c90fec7d-93bd-432f-9ffb-4e06af76f6b0"
      },
      "execution_count": null,
      "outputs": [
        {
          "output_type": "execute_result",
          "data": {
            "text/plain": [
              "{5, 6, 7, 'Appel', 'Mango', 'Pineappel', 'orange'}"
            ]
          },
          "metadata": {},
          "execution_count": 44
        }
      ]
    },
    {
      "cell_type": "code",
      "source": [
        "st.remove(\"Appel\")"
      ],
      "metadata": {
        "id": "4_jtU2UFMXwH"
      },
      "execution_count": null,
      "outputs": []
    },
    {
      "cell_type": "code",
      "source": [
        "st"
      ],
      "metadata": {
        "colab": {
          "base_uri": "https://localhost:8080/"
        },
        "id": "JSQROftVNbok",
        "outputId": "716fd6bf-5a2b-4b86-ccb0-334cf186d0b4"
      },
      "execution_count": null,
      "outputs": [
        {
          "output_type": "execute_result",
          "data": {
            "text/plain": [
              "{5, 6, 7, 'Mango', 'Pineappel', 'orange'}"
            ]
          },
          "metadata": {},
          "execution_count": 46
        }
      ]
    },
    {
      "cell_type": "code",
      "source": [
        "st={1,2,3,[\"Appel\",\"orange\"]}"
      ],
      "metadata": {
        "colab": {
          "base_uri": "https://localhost:8080/",
          "height": 166
        },
        "id": "OEuzIk_3NdiS",
        "outputId": "933f51f3-0da2-42bb-fb8c-b24dbc6060af"
      },
      "execution_count": null,
      "outputs": [
        {
          "output_type": "error",
          "ename": "TypeError",
          "evalue": "ignored",
          "traceback": [
            "\u001b[0;31m---------------------------------------------------------------------------\u001b[0m",
            "\u001b[0;31mTypeError\u001b[0m                                 Traceback (most recent call last)",
            "\u001b[0;32m<ipython-input-47-e4850252d757>\u001b[0m in \u001b[0;36m<module>\u001b[0;34m\u001b[0m\n\u001b[0;32m----> 1\u001b[0;31m \u001b[0mst\u001b[0m\u001b[0;34m=\u001b[0m\u001b[0;34m{\u001b[0m\u001b[0;36m1\u001b[0m\u001b[0;34m,\u001b[0m\u001b[0;36m2\u001b[0m\u001b[0;34m,\u001b[0m\u001b[0;36m3\u001b[0m\u001b[0;34m,\u001b[0m\u001b[0;34m[\u001b[0m\u001b[0;34m\"Appel\"\u001b[0m\u001b[0;34m,\u001b[0m\u001b[0;34m\"orange\"\u001b[0m\u001b[0;34m]\u001b[0m\u001b[0;34m}\u001b[0m\u001b[0;34m\u001b[0m\u001b[0;34m\u001b[0m\u001b[0m\n\u001b[0m",
            "\u001b[0;31mTypeError\u001b[0m: unhashable type: 'list'"
          ]
        }
      ]
    },
    {
      "cell_type": "code",
      "source": [
        "for i in st:\n",
        "  print(i)"
      ],
      "metadata": {
        "colab": {
          "base_uri": "https://localhost:8080/"
        },
        "id": "-rJn0GdaNxeB",
        "outputId": "9ba4a4fc-7993-421d-834a-c68af3ab1fe8"
      },
      "execution_count": null,
      "outputs": [
        {
          "output_type": "stream",
          "name": "stdout",
          "text": [
            "Mango\n",
            "5\n",
            "6\n",
            "7\n",
            "Pineappel\n",
            "orange\n"
          ]
        }
      ]
    },
    {
      "cell_type": "code",
      "source": [
        "st.pop()"
      ],
      "metadata": {
        "colab": {
          "base_uri": "https://localhost:8080/",
          "height": 35
        },
        "id": "xyt2HH2RODkh",
        "outputId": "fde1aed3-536c-464a-c16b-0fb82a3fe481"
      },
      "execution_count": null,
      "outputs": [
        {
          "output_type": "execute_result",
          "data": {
            "text/plain": [
              "'Mango'"
            ],
            "application/vnd.google.colaboratory.intrinsic+json": {
              "type": "string"
            }
          },
          "metadata": {},
          "execution_count": 51
        }
      ]
    },
    {
      "cell_type": "code",
      "source": [
        "st.clear"
      ],
      "metadata": {
        "colab": {
          "base_uri": "https://localhost:8080/"
        },
        "id": "NY1ncLHCOPnT",
        "outputId": "ff6b255e-9dca-4663-ba60-55eeb646b96a"
      },
      "execution_count": null,
      "outputs": [
        {
          "output_type": "execute_result",
          "data": {
            "text/plain": [
              "<function set.clear>"
            ]
          },
          "metadata": {},
          "execution_count": 52
        }
      ]
    },
    {
      "cell_type": "code",
      "source": [
        "del st"
      ],
      "metadata": {
        "id": "ArDCceAwOb4k"
      },
      "execution_count": null,
      "outputs": []
    },
    {
      "cell_type": "code",
      "source": [
        "st"
      ],
      "metadata": {
        "colab": {
          "base_uri": "https://localhost:8080/",
          "height": 166
        },
        "id": "MgcQSyn1Oesz",
        "outputId": "941dd2f8-cd30-40dc-d7c0-5cb9e28c2a8d"
      },
      "execution_count": null,
      "outputs": [
        {
          "output_type": "error",
          "ename": "NameError",
          "evalue": "ignored",
          "traceback": [
            "\u001b[0;31m---------------------------------------------------------------------------\u001b[0m",
            "\u001b[0;31mNameError\u001b[0m                                 Traceback (most recent call last)",
            "\u001b[0;32m<ipython-input-56-235690c2c180>\u001b[0m in \u001b[0;36m<module>\u001b[0;34m\u001b[0m\n\u001b[0;32m----> 1\u001b[0;31m \u001b[0mst\u001b[0m\u001b[0;34m\u001b[0m\u001b[0;34m\u001b[0m\u001b[0m\n\u001b[0m",
            "\u001b[0;31mNameError\u001b[0m: name 'st' is not defined"
          ]
        }
      ]
    },
    {
      "cell_type": "code",
      "source": [
        "set1={1,2,3,4,5}\n",
        "set2={2,5,8,9}\n",
        "print(set1.union(set2))\n"
      ],
      "metadata": {
        "colab": {
          "base_uri": "https://localhost:8080/"
        },
        "id": "AkeEvtgzOnDO",
        "outputId": "bb5ee316-7c47-4fa9-ce07-86c3de002d0f"
      },
      "execution_count": null,
      "outputs": [
        {
          "output_type": "stream",
          "name": "stdout",
          "text": [
            "{1, 2, 3, 4, 5, 8, 9}\n"
          ]
        }
      ]
    },
    {
      "cell_type": "code",
      "source": [
        "lst=[1,2,3,4,5]\n",
        "st=set(lst)"
      ],
      "metadata": {
        "id": "E8pPN1L0PtDQ"
      },
      "execution_count": null,
      "outputs": []
    },
    {
      "cell_type": "code",
      "source": [
        "st"
      ],
      "metadata": {
        "colab": {
          "base_uri": "https://localhost:8080/"
        },
        "id": "YiXiJKBWQkAz",
        "outputId": "3a57b172-d3b9-4c7e-ce87-a37819caa2e0"
      },
      "execution_count": null,
      "outputs": [
        {
          "output_type": "execute_result",
          "data": {
            "text/plain": [
              "{1, 2, 3, 4, 5}"
            ]
          },
          "metadata": {},
          "execution_count": 61
        }
      ]
    },
    {
      "cell_type": "code",
      "source": [
        "lst2=list(st)"
      ],
      "metadata": {
        "id": "AvyWQHRfQmB1"
      },
      "execution_count": null,
      "outputs": []
    },
    {
      "cell_type": "code",
      "source": [
        "lst2\n"
      ],
      "metadata": {
        "colab": {
          "base_uri": "https://localhost:8080/"
        },
        "id": "ykS7bRI4Rjxl",
        "outputId": "37f0393f-3b35-47fc-de15-63d95bc89177"
      },
      "execution_count": null,
      "outputs": [
        {
          "output_type": "execute_result",
          "data": {
            "text/plain": [
              "[1, 2, 3, 4, 5]"
            ]
          },
          "metadata": {},
          "execution_count": 63
        }
      ]
    },
    {
      "cell_type": "code",
      "source": [
        ""
      ],
      "metadata": {
        "id": "oK7e-YDHRpDM"
      },
      "execution_count": null,
      "outputs": []
    }
  ]
}